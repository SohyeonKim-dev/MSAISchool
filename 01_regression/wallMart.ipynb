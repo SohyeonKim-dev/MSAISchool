{
 "cells": [
  {
   "cell_type": "code",
   "execution_count": 2,
   "metadata": {},
   "outputs": [
    {
     "name": "stdout",
     "output_type": "stream",
     "text": [
      "b'{\"Results\":{\"output1\":[{\"\\xec\\xa7\\x80\\xec\\xa0\\x90\":\"11\",\"\\xeb\\x82\\xa0\\xec\\xa7\\x9c\":\"11/20/2020 12:00:00 AM\",\"\\xec\\x98\\xa8\\xeb\\x8f\\x84\":\"10\",\"\\xec\\x97\\xb0\\xeb\\xa3\\x8c\\xeb\\xb9\\x84\":\"4\",\"\\xec\\x86\\x8c\\xeb\\xb9\\x84\\xec\\x9e\\x90\\xeb\\xac\\xbc\\xea\\xb0\\x80\\xec\\xa7\\x80\\xec\\x88\\x98\":\"20\",\"\\xec\\x8b\\xa4\\xec\\x97\\x85\\xeb\\xa5\\xa0\":\"8\",\"\\xeb\\xb6\\x80\\xec\\x84\\x9c\":\"14\",\"\\xed\\x9c\\xb4\\xec\\x9d\\xbc\\xec\\x97\\xac\\xeb\\xb6\\x80\":\"False\",\"\\xec\\x9c\\xa0\\xed\\x98\\x95\":\"A\",\"\\xea\\xb7\\x9c\\xeb\\xaa\\xa8\":\"1\",\"Scored Labels\":\"3171.80932617188\"}]}}'\n"
     ]
    }
   ],
   "source": [
    "import urllib.request\n",
    "import json\n",
    "\n",
    "data = {\n",
    "        \"Inputs\": {\n",
    "                \"input1\":\n",
    "                [\n",
    "                    {\n",
    "                            '지점': \"11\",   \n",
    "                            '날짜': \"2020-11-20\",   \n",
    "                            '온도': \"10\",   \n",
    "                            '연료비': \"4\",   \n",
    "                            '소비자물가지수': \"20\",   \n",
    "                            '실업률': \"8\",   \n",
    "                            '부서': \"14\",   \n",
    "                            '휴일여부': \"false\",   \n",
    "                            '유형': \"A\",   \n",
    "                            '규모': \"1\",   \n",
    "                    }\n",
    "                ],\n",
    "        },\n",
    "    \"GlobalParameters\":  {\n",
    "    }\n",
    "}\n",
    "\n",
    "body = str.encode(json.dumps(data))\n",
    "\n",
    "url = 'https://ussouthcentral.services.azureml.net/workspaces/11769b859a68490799c7a09b8b7585dc/services/69784e3afacf46f7ad6cbccb88ecc591/execute?api-version=2.0&format=swagger'\n",
    "api_key = 'WBtYvL6wUtRvUqFMa5+oQ1SDBQP3zPSQ6HSHXf+AtLLeSPGqSTnrrehfLf4h/gGueEDyxpt2m1HgbSQfrWT7zQ=='\n",
    "headers = {'Content-Type':'application/json', 'Authorization':('Bearer '+ api_key)}\n",
    "\n",
    "req = urllib.request.Request(url, body, headers)\n",
    "\n",
    "try:\n",
    "    response = urllib.request.urlopen(req)\n",
    "\n",
    "    result = response.read()\n",
    "    print(result)\n",
    "except urllib.error.HTTPError as error:\n",
    "    print(\"The request failed with status code: \" + str(error.code))\n",
    "\n",
    "    # Print the headers - they include the requert ID and the timestamp, which are useful for debugging the failure\n",
    "    print(error.info())\n",
    "    print(json.loads(error.read().decode(\"utf8\", 'ignore')))"
   ]
  },
  {
   "cell_type": "code",
   "execution_count": null,
   "metadata": {},
   "outputs": [],
   "source": []
  }
 ],
 "metadata": {
  "kernelspec": {
   "display_name": "Python 3",
   "language": "python",
   "name": "python3"
  },
  "language_info": {
   "codemirror_mode": {
    "name": "ipython",
    "version": 3
   },
   "file_extension": ".py",
   "mimetype": "text/x-python",
   "name": "python",
   "nbconvert_exporter": "python",
   "pygments_lexer": "ipython3",
   "version": "3.8.5"
  }
 },
 "nbformat": 4,
 "nbformat_minor": 4
}
